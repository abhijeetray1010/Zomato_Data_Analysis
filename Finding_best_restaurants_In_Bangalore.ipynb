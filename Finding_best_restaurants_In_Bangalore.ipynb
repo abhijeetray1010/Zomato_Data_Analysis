{
 "cells": [
  {
   "cell_type": "markdown",
   "metadata": {},
   "source": [
    "# Finding the best restaurants in Bangalore"
   ]
  },
  {
   "cell_type": "markdown",
   "metadata": {},
   "source": [
    "### Importing the necessary modules"
   ]
  },
  {
   "cell_type": "code",
   "execution_count": 288,
   "metadata": {},
   "outputs": [],
   "source": [
    "import pandas as pd\n",
    "import numpy as np"
   ]
  },
  {
   "cell_type": "markdown",
   "metadata": {},
   "source": [
    "## Loading and exploring the dataset"
   ]
  },
  {
   "cell_type": "code",
   "execution_count": 290,
   "metadata": {},
   "outputs": [],
   "source": [
    "df=pd.read_csv('C:/Users/Dell/Desktop/Data_Analysis/zomato.csv')"
   ]
  },
  {
   "cell_type": "code",
   "execution_count": 291,
   "metadata": {},
   "outputs": [
    {
     "data": {
      "text/html": [
       "<div>\n",
       "<style scoped>\n",
       "    .dataframe tbody tr th:only-of-type {\n",
       "        vertical-align: middle;\n",
       "    }\n",
       "\n",
       "    .dataframe tbody tr th {\n",
       "        vertical-align: top;\n",
       "    }\n",
       "\n",
       "    .dataframe thead th {\n",
       "        text-align: right;\n",
       "    }\n",
       "</style>\n",
       "<table border=\"1\" class=\"dataframe\">\n",
       "  <thead>\n",
       "    <tr style=\"text-align: right;\">\n",
       "      <th></th>\n",
       "      <th>url</th>\n",
       "      <th>address</th>\n",
       "      <th>name</th>\n",
       "      <th>online_order</th>\n",
       "      <th>book_table</th>\n",
       "      <th>rate</th>\n",
       "      <th>votes</th>\n",
       "      <th>phone</th>\n",
       "      <th>location</th>\n",
       "      <th>rest_type</th>\n",
       "      <th>dish_liked</th>\n",
       "      <th>cuisines</th>\n",
       "      <th>approx_cost(for two people)</th>\n",
       "      <th>reviews_list</th>\n",
       "      <th>menu_item</th>\n",
       "      <th>listed_in(type)</th>\n",
       "      <th>listed_in(city)</th>\n",
       "    </tr>\n",
       "  </thead>\n",
       "  <tbody>\n",
       "    <tr>\n",
       "      <th>0</th>\n",
       "      <td>https://www.zomato.com/bangalore/jalsa-banasha...</td>\n",
       "      <td>942, 21st Main Road, 2nd Stage, Banashankari, ...</td>\n",
       "      <td>Jalsa</td>\n",
       "      <td>Yes</td>\n",
       "      <td>Yes</td>\n",
       "      <td>4.1/5</td>\n",
       "      <td>775</td>\n",
       "      <td>080 42297555\\r\\n+91 9743772233</td>\n",
       "      <td>Banashankari</td>\n",
       "      <td>Casual Dining</td>\n",
       "      <td>Pasta, Lunch Buffet, Masala Papad, Paneer Laja...</td>\n",
       "      <td>North Indian, Mughlai, Chinese</td>\n",
       "      <td>800</td>\n",
       "      <td>[('Rated 4.0', 'RATED\\n  A beautiful place to ...</td>\n",
       "      <td>[]</td>\n",
       "      <td>Buffet</td>\n",
       "      <td>Banashankari</td>\n",
       "    </tr>\n",
       "    <tr>\n",
       "      <th>1</th>\n",
       "      <td>https://www.zomato.com/bangalore/spice-elephan...</td>\n",
       "      <td>2nd Floor, 80 Feet Road, Near Big Bazaar, 6th ...</td>\n",
       "      <td>Spice Elephant</td>\n",
       "      <td>Yes</td>\n",
       "      <td>No</td>\n",
       "      <td>4.1/5</td>\n",
       "      <td>787</td>\n",
       "      <td>080 41714161</td>\n",
       "      <td>Banashankari</td>\n",
       "      <td>Casual Dining</td>\n",
       "      <td>Momos, Lunch Buffet, Chocolate Nirvana, Thai G...</td>\n",
       "      <td>Chinese, North Indian, Thai</td>\n",
       "      <td>800</td>\n",
       "      <td>[('Rated 4.0', 'RATED\\n  Had been here for din...</td>\n",
       "      <td>[]</td>\n",
       "      <td>Buffet</td>\n",
       "      <td>Banashankari</td>\n",
       "    </tr>\n",
       "    <tr>\n",
       "      <th>2</th>\n",
       "      <td>https://www.zomato.com/SanchurroBangalore?cont...</td>\n",
       "      <td>1112, Next to KIMS Medical College, 17th Cross...</td>\n",
       "      <td>San Churro Cafe</td>\n",
       "      <td>Yes</td>\n",
       "      <td>No</td>\n",
       "      <td>3.8/5</td>\n",
       "      <td>918</td>\n",
       "      <td>+91 9663487993</td>\n",
       "      <td>Banashankari</td>\n",
       "      <td>Cafe, Casual Dining</td>\n",
       "      <td>Churros, Cannelloni, Minestrone Soup, Hot Choc...</td>\n",
       "      <td>Cafe, Mexican, Italian</td>\n",
       "      <td>800</td>\n",
       "      <td>[('Rated 3.0', \"RATED\\n  Ambience is not that ...</td>\n",
       "      <td>[]</td>\n",
       "      <td>Buffet</td>\n",
       "      <td>Banashankari</td>\n",
       "    </tr>\n",
       "    <tr>\n",
       "      <th>3</th>\n",
       "      <td>https://www.zomato.com/bangalore/addhuri-udupi...</td>\n",
       "      <td>1st Floor, Annakuteera, 3rd Stage, Banashankar...</td>\n",
       "      <td>Addhuri Udupi Bhojana</td>\n",
       "      <td>No</td>\n",
       "      <td>No</td>\n",
       "      <td>3.7/5</td>\n",
       "      <td>88</td>\n",
       "      <td>+91 9620009302</td>\n",
       "      <td>Banashankari</td>\n",
       "      <td>Quick Bites</td>\n",
       "      <td>Masala Dosa</td>\n",
       "      <td>South Indian, North Indian</td>\n",
       "      <td>300</td>\n",
       "      <td>[('Rated 4.0', \"RATED\\n  Great food and proper...</td>\n",
       "      <td>[]</td>\n",
       "      <td>Buffet</td>\n",
       "      <td>Banashankari</td>\n",
       "    </tr>\n",
       "    <tr>\n",
       "      <th>4</th>\n",
       "      <td>https://www.zomato.com/bangalore/grand-village...</td>\n",
       "      <td>10, 3rd Floor, Lakshmi Associates, Gandhi Baza...</td>\n",
       "      <td>Grand Village</td>\n",
       "      <td>No</td>\n",
       "      <td>No</td>\n",
       "      <td>3.8/5</td>\n",
       "      <td>166</td>\n",
       "      <td>+91 8026612447\\r\\n+91 9901210005</td>\n",
       "      <td>Basavanagudi</td>\n",
       "      <td>Casual Dining</td>\n",
       "      <td>Panipuri, Gol Gappe</td>\n",
       "      <td>North Indian, Rajasthani</td>\n",
       "      <td>600</td>\n",
       "      <td>[('Rated 4.0', 'RATED\\n  Very good restaurant ...</td>\n",
       "      <td>[]</td>\n",
       "      <td>Buffet</td>\n",
       "      <td>Banashankari</td>\n",
       "    </tr>\n",
       "    <tr>\n",
       "      <th>5</th>\n",
       "      <td>https://www.zomato.com/bangalore/timepass-dinn...</td>\n",
       "      <td>37, 5-1, 4th Floor, Bosco Court, Gandhi Bazaar...</td>\n",
       "      <td>Timepass Dinner</td>\n",
       "      <td>Yes</td>\n",
       "      <td>No</td>\n",
       "      <td>3.8/5</td>\n",
       "      <td>286</td>\n",
       "      <td>+91 9980040002\\r\\n+91 9980063005</td>\n",
       "      <td>Basavanagudi</td>\n",
       "      <td>Casual Dining</td>\n",
       "      <td>Onion Rings, Pasta, Kadhai Paneer, Salads, Sal...</td>\n",
       "      <td>North Indian</td>\n",
       "      <td>600</td>\n",
       "      <td>[('Rated 3.0', 'RATED\\n  Food 3/5\\nAmbience 3/...</td>\n",
       "      <td>[]</td>\n",
       "      <td>Buffet</td>\n",
       "      <td>Banashankari</td>\n",
       "    </tr>\n",
       "    <tr>\n",
       "      <th>6</th>\n",
       "      <td>https://www.zomato.com/bangalore/rosewood-inte...</td>\n",
       "      <td>19/1, New Timberyard Layout, Beside Satellite ...</td>\n",
       "      <td>Rosewood International Hotel - Bar &amp; Restaurant</td>\n",
       "      <td>No</td>\n",
       "      <td>No</td>\n",
       "      <td>3.6/5</td>\n",
       "      <td>8</td>\n",
       "      <td>+91 9731716688\\r\\n080 26740366</td>\n",
       "      <td>Mysore Road</td>\n",
       "      <td>Casual Dining</td>\n",
       "      <td>NaN</td>\n",
       "      <td>North Indian, South Indian, Andhra, Chinese</td>\n",
       "      <td>800</td>\n",
       "      <td>[('Rated 5.0', 'RATED\\n  Awesome food ??Great ...</td>\n",
       "      <td>[]</td>\n",
       "      <td>Buffet</td>\n",
       "      <td>Banashankari</td>\n",
       "    </tr>\n",
       "    <tr>\n",
       "      <th>7</th>\n",
       "      <td>https://www.zomato.com/bangalore/onesta-banash...</td>\n",
       "      <td>2469, 3rd Floor, 24th Cross, Opposite BDA Comp...</td>\n",
       "      <td>Onesta</td>\n",
       "      <td>Yes</td>\n",
       "      <td>Yes</td>\n",
       "      <td>4.6/5</td>\n",
       "      <td>2556</td>\n",
       "      <td>080 48653961\\r\\n080 48655715</td>\n",
       "      <td>Banashankari</td>\n",
       "      <td>Casual Dining, Cafe</td>\n",
       "      <td>Farmhouse Pizza, Chocolate Banana, Virgin Moji...</td>\n",
       "      <td>Pizza, Cafe, Italian</td>\n",
       "      <td>600</td>\n",
       "      <td>[('Rated 5.0', 'RATED\\n  I personally really l...</td>\n",
       "      <td>[]</td>\n",
       "      <td>Cafes</td>\n",
       "      <td>Banashankari</td>\n",
       "    </tr>\n",
       "    <tr>\n",
       "      <th>8</th>\n",
       "      <td>https://www.zomato.com/bangalore/penthouse-caf...</td>\n",
       "      <td>1, 30th Main Road, 3rd Stage, Banashankari, Ba...</td>\n",
       "      <td>Penthouse Cafe</td>\n",
       "      <td>Yes</td>\n",
       "      <td>No</td>\n",
       "      <td>4.0/5</td>\n",
       "      <td>324</td>\n",
       "      <td>+91 8884135549\\r\\n+91 9449449316</td>\n",
       "      <td>Banashankari</td>\n",
       "      <td>Cafe</td>\n",
       "      <td>Pizza, Mocktails, Coffee, Nachos, Salad, Pasta...</td>\n",
       "      <td>Cafe, Italian, Continental</td>\n",
       "      <td>700</td>\n",
       "      <td>[('Rated 3.0', \"RATED\\n  I had been to this pl...</td>\n",
       "      <td>[]</td>\n",
       "      <td>Cafes</td>\n",
       "      <td>Banashankari</td>\n",
       "    </tr>\n",
       "    <tr>\n",
       "      <th>9</th>\n",
       "      <td>https://www.zomato.com/bangalore/smacznego-ban...</td>\n",
       "      <td>2470, 21 Main Road, 25th Cross, Banashankari, ...</td>\n",
       "      <td>Smacznego</td>\n",
       "      <td>Yes</td>\n",
       "      <td>No</td>\n",
       "      <td>4.2/5</td>\n",
       "      <td>504</td>\n",
       "      <td>+91 9945230807\\r\\n+91 9743804471</td>\n",
       "      <td>Banashankari</td>\n",
       "      <td>Cafe</td>\n",
       "      <td>Waffles, Pasta, Coleslaw Sandwich, Choco Waffl...</td>\n",
       "      <td>Cafe, Mexican, Italian, Momos, Beverages</td>\n",
       "      <td>550</td>\n",
       "      <td>[('Rated 4.0', \"RATED\\n  Easy to locate\\nVFM 3...</td>\n",
       "      <td>[]</td>\n",
       "      <td>Cafes</td>\n",
       "      <td>Banashankari</td>\n",
       "    </tr>\n",
       "  </tbody>\n",
       "</table>\n",
       "</div>"
      ],
      "text/plain": [
       "                                                 url  \\\n",
       "0  https://www.zomato.com/bangalore/jalsa-banasha...   \n",
       "1  https://www.zomato.com/bangalore/spice-elephan...   \n",
       "2  https://www.zomato.com/SanchurroBangalore?cont...   \n",
       "3  https://www.zomato.com/bangalore/addhuri-udupi...   \n",
       "4  https://www.zomato.com/bangalore/grand-village...   \n",
       "5  https://www.zomato.com/bangalore/timepass-dinn...   \n",
       "6  https://www.zomato.com/bangalore/rosewood-inte...   \n",
       "7  https://www.zomato.com/bangalore/onesta-banash...   \n",
       "8  https://www.zomato.com/bangalore/penthouse-caf...   \n",
       "9  https://www.zomato.com/bangalore/smacznego-ban...   \n",
       "\n",
       "                                             address  \\\n",
       "0  942, 21st Main Road, 2nd Stage, Banashankari, ...   \n",
       "1  2nd Floor, 80 Feet Road, Near Big Bazaar, 6th ...   \n",
       "2  1112, Next to KIMS Medical College, 17th Cross...   \n",
       "3  1st Floor, Annakuteera, 3rd Stage, Banashankar...   \n",
       "4  10, 3rd Floor, Lakshmi Associates, Gandhi Baza...   \n",
       "5  37, 5-1, 4th Floor, Bosco Court, Gandhi Bazaar...   \n",
       "6  19/1, New Timberyard Layout, Beside Satellite ...   \n",
       "7  2469, 3rd Floor, 24th Cross, Opposite BDA Comp...   \n",
       "8  1, 30th Main Road, 3rd Stage, Banashankari, Ba...   \n",
       "9  2470, 21 Main Road, 25th Cross, Banashankari, ...   \n",
       "\n",
       "                                              name online_order book_table  \\\n",
       "0                                            Jalsa          Yes        Yes   \n",
       "1                                   Spice Elephant          Yes         No   \n",
       "2                                  San Churro Cafe          Yes         No   \n",
       "3                            Addhuri Udupi Bhojana           No         No   \n",
       "4                                    Grand Village           No         No   \n",
       "5                                  Timepass Dinner          Yes         No   \n",
       "6  Rosewood International Hotel - Bar & Restaurant           No         No   \n",
       "7                                           Onesta          Yes        Yes   \n",
       "8                                   Penthouse Cafe          Yes         No   \n",
       "9                                        Smacznego          Yes         No   \n",
       "\n",
       "    rate  votes                             phone      location  \\\n",
       "0  4.1/5    775    080 42297555\\r\\n+91 9743772233  Banashankari   \n",
       "1  4.1/5    787                      080 41714161  Banashankari   \n",
       "2  3.8/5    918                    +91 9663487993  Banashankari   \n",
       "3  3.7/5     88                    +91 9620009302  Banashankari   \n",
       "4  3.8/5    166  +91 8026612447\\r\\n+91 9901210005  Basavanagudi   \n",
       "5  3.8/5    286  +91 9980040002\\r\\n+91 9980063005  Basavanagudi   \n",
       "6  3.6/5      8    +91 9731716688\\r\\n080 26740366   Mysore Road   \n",
       "7  4.6/5   2556      080 48653961\\r\\n080 48655715  Banashankari   \n",
       "8  4.0/5    324  +91 8884135549\\r\\n+91 9449449316  Banashankari   \n",
       "9  4.2/5    504  +91 9945230807\\r\\n+91 9743804471  Banashankari   \n",
       "\n",
       "             rest_type                                         dish_liked  \\\n",
       "0        Casual Dining  Pasta, Lunch Buffet, Masala Papad, Paneer Laja...   \n",
       "1        Casual Dining  Momos, Lunch Buffet, Chocolate Nirvana, Thai G...   \n",
       "2  Cafe, Casual Dining  Churros, Cannelloni, Minestrone Soup, Hot Choc...   \n",
       "3          Quick Bites                                        Masala Dosa   \n",
       "4        Casual Dining                                Panipuri, Gol Gappe   \n",
       "5        Casual Dining  Onion Rings, Pasta, Kadhai Paneer, Salads, Sal...   \n",
       "6        Casual Dining                                                NaN   \n",
       "7  Casual Dining, Cafe  Farmhouse Pizza, Chocolate Banana, Virgin Moji...   \n",
       "8                 Cafe  Pizza, Mocktails, Coffee, Nachos, Salad, Pasta...   \n",
       "9                 Cafe  Waffles, Pasta, Coleslaw Sandwich, Choco Waffl...   \n",
       "\n",
       "                                      cuisines approx_cost(for two people)  \\\n",
       "0               North Indian, Mughlai, Chinese                         800   \n",
       "1                  Chinese, North Indian, Thai                         800   \n",
       "2                       Cafe, Mexican, Italian                         800   \n",
       "3                   South Indian, North Indian                         300   \n",
       "4                     North Indian, Rajasthani                         600   \n",
       "5                                 North Indian                         600   \n",
       "6  North Indian, South Indian, Andhra, Chinese                         800   \n",
       "7                         Pizza, Cafe, Italian                         600   \n",
       "8                   Cafe, Italian, Continental                         700   \n",
       "9     Cafe, Mexican, Italian, Momos, Beverages                         550   \n",
       "\n",
       "                                        reviews_list menu_item  \\\n",
       "0  [('Rated 4.0', 'RATED\\n  A beautiful place to ...        []   \n",
       "1  [('Rated 4.0', 'RATED\\n  Had been here for din...        []   \n",
       "2  [('Rated 3.0', \"RATED\\n  Ambience is not that ...        []   \n",
       "3  [('Rated 4.0', \"RATED\\n  Great food and proper...        []   \n",
       "4  [('Rated 4.0', 'RATED\\n  Very good restaurant ...        []   \n",
       "5  [('Rated 3.0', 'RATED\\n  Food 3/5\\nAmbience 3/...        []   \n",
       "6  [('Rated 5.0', 'RATED\\n  Awesome food ??Great ...        []   \n",
       "7  [('Rated 5.0', 'RATED\\n  I personally really l...        []   \n",
       "8  [('Rated 3.0', \"RATED\\n  I had been to this pl...        []   \n",
       "9  [('Rated 4.0', \"RATED\\n  Easy to locate\\nVFM 3...        []   \n",
       "\n",
       "  listed_in(type) listed_in(city)  \n",
       "0          Buffet    Banashankari  \n",
       "1          Buffet    Banashankari  \n",
       "2          Buffet    Banashankari  \n",
       "3          Buffet    Banashankari  \n",
       "4          Buffet    Banashankari  \n",
       "5          Buffet    Banashankari  \n",
       "6          Buffet    Banashankari  \n",
       "7           Cafes    Banashankari  \n",
       "8           Cafes    Banashankari  \n",
       "9           Cafes    Banashankari  "
      ]
     },
     "execution_count": 291,
     "metadata": {},
     "output_type": "execute_result"
    }
   ],
   "source": [
    "df.head(10)"
   ]
  },
  {
   "cell_type": "code",
   "execution_count": 293,
   "metadata": {},
   "outputs": [
    {
     "data": {
      "text/html": [
       "<div>\n",
       "<style scoped>\n",
       "    .dataframe tbody tr th:only-of-type {\n",
       "        vertical-align: middle;\n",
       "    }\n",
       "\n",
       "    .dataframe tbody tr th {\n",
       "        vertical-align: top;\n",
       "    }\n",
       "\n",
       "    .dataframe thead th {\n",
       "        text-align: right;\n",
       "    }\n",
       "</style>\n",
       "<table border=\"1\" class=\"dataframe\">\n",
       "  <thead>\n",
       "    <tr style=\"text-align: right;\">\n",
       "      <th></th>\n",
       "      <th>url</th>\n",
       "      <th>address</th>\n",
       "      <th>name</th>\n",
       "      <th>online_order</th>\n",
       "      <th>book_table</th>\n",
       "      <th>rate</th>\n",
       "      <th>votes</th>\n",
       "      <th>phone</th>\n",
       "      <th>location</th>\n",
       "      <th>rest_type</th>\n",
       "      <th>dish_liked</th>\n",
       "      <th>cuisines</th>\n",
       "      <th>approx_cost(for two people)</th>\n",
       "      <th>reviews_list</th>\n",
       "      <th>menu_item</th>\n",
       "      <th>listed_in(type)</th>\n",
       "      <th>listed_in(city)</th>\n",
       "    </tr>\n",
       "  </thead>\n",
       "  <tbody>\n",
       "    <tr>\n",
       "      <th>51707</th>\n",
       "      <td>https://www.zomato.com/bangalore/m-bar-bengalu...</td>\n",
       "      <td>Bengaluru Marriott Hotel, 75, 8th Road, EPIP A...</td>\n",
       "      <td>M Bar - Bengaluru Marriott Hotel Whitefield</td>\n",
       "      <td>No</td>\n",
       "      <td>No</td>\n",
       "      <td>3.9 /5</td>\n",
       "      <td>77</td>\n",
       "      <td>080 49435000</td>\n",
       "      <td>Whitefield</td>\n",
       "      <td>Fine Dining, Bar</td>\n",
       "      <td>Rooftop Ambience</td>\n",
       "      <td>Finger Food</td>\n",
       "      <td>2,000</td>\n",
       "      <td>[('Rated 4.0', 'RATED\\n  Went there post dinne...</td>\n",
       "      <td>[]</td>\n",
       "      <td>Pubs and bars</td>\n",
       "      <td>Whitefield</td>\n",
       "    </tr>\n",
       "    <tr>\n",
       "      <th>51708</th>\n",
       "      <td>https://www.zomato.com/bangalore/keys-cafe-key...</td>\n",
       "      <td>Keys Hotel, 6, 1st Phase Industrial Area, Near...</td>\n",
       "      <td>Keys Cafe - Keys Hotel</td>\n",
       "      <td>No</td>\n",
       "      <td>No</td>\n",
       "      <td>2.8 /5</td>\n",
       "      <td>161</td>\n",
       "      <td>080 39451000\\n+91 8884038484</td>\n",
       "      <td>Whitefield</td>\n",
       "      <td>Casual Dining, Bar</td>\n",
       "      <td>Salads, Coffee, Breakfast Buffet, Halwa, Chick...</td>\n",
       "      <td>Chinese, Continental, North Indian</td>\n",
       "      <td>1,200</td>\n",
       "      <td>[('Rated 3.0', 'RATED\\n  Place is good not tha...</td>\n",
       "      <td>[]</td>\n",
       "      <td>Pubs and bars</td>\n",
       "      <td>Whitefield</td>\n",
       "    </tr>\n",
       "    <tr>\n",
       "      <th>51709</th>\n",
       "      <td>https://www.zomato.com/bangalore/the-farm-hous...</td>\n",
       "      <td>136, SAP Labs India, KIADB Export Promotion In...</td>\n",
       "      <td>The Farm House Bar n Grill</td>\n",
       "      <td>No</td>\n",
       "      <td>No</td>\n",
       "      <td>3.7 /5</td>\n",
       "      <td>34</td>\n",
       "      <td>+91 9980121279\\n+91 9900240646</td>\n",
       "      <td>Whitefield</td>\n",
       "      <td>Casual Dining, Bar</td>\n",
       "      <td>NaN</td>\n",
       "      <td>North Indian, Continental</td>\n",
       "      <td>800</td>\n",
       "      <td>[('Rated 4.0', 'RATED\\n  Ambience- Big and spa...</td>\n",
       "      <td>[]</td>\n",
       "      <td>Pubs and bars</td>\n",
       "      <td>Whitefield</td>\n",
       "    </tr>\n",
       "    <tr>\n",
       "      <th>51710</th>\n",
       "      <td>https://www.zomato.com/bangalore/topsy-turvey-...</td>\n",
       "      <td>2E2, 4th Cross Road, Devasandra Industrial Est...</td>\n",
       "      <td>Topsy Turvey</td>\n",
       "      <td>No</td>\n",
       "      <td>No</td>\n",
       "      <td>NaN</td>\n",
       "      <td>0</td>\n",
       "      <td>+91 9148155994</td>\n",
       "      <td>Whitefield</td>\n",
       "      <td>Bar</td>\n",
       "      <td>NaN</td>\n",
       "      <td>Finger Food</td>\n",
       "      <td>900</td>\n",
       "      <td>[('Rated 4.0', \"RATED\\n  A divine joint for Fl...</td>\n",
       "      <td>[]</td>\n",
       "      <td>Pubs and bars</td>\n",
       "      <td>Whitefield</td>\n",
       "    </tr>\n",
       "    <tr>\n",
       "      <th>51711</th>\n",
       "      <td>https://www.zomato.com/bangalore/bhagini-2-whi...</td>\n",
       "      <td>139/C1, Next To GR Tech Park, Pattandur Agraha...</td>\n",
       "      <td>Bhagini</td>\n",
       "      <td>No</td>\n",
       "      <td>No</td>\n",
       "      <td>2.5 /5</td>\n",
       "      <td>81</td>\n",
       "      <td>080 65951222</td>\n",
       "      <td>Whitefield</td>\n",
       "      <td>Casual Dining, Bar</td>\n",
       "      <td>Biryani, Andhra Meal</td>\n",
       "      <td>Andhra, South Indian, Chinese, North Indian</td>\n",
       "      <td>800</td>\n",
       "      <td>[('Rated 4.0', 'RATED\\n  A fine place to chill...</td>\n",
       "      <td>[]</td>\n",
       "      <td>Pubs and bars</td>\n",
       "      <td>Whitefield</td>\n",
       "    </tr>\n",
       "    <tr>\n",
       "      <th>51712</th>\n",
       "      <td>https://www.zomato.com/bangalore/best-brews-fo...</td>\n",
       "      <td>Four Points by Sheraton Bengaluru, 43/3, White...</td>\n",
       "      <td>Best Brews - Four Points by Sheraton Bengaluru...</td>\n",
       "      <td>No</td>\n",
       "      <td>No</td>\n",
       "      <td>3.6 /5</td>\n",
       "      <td>27</td>\n",
       "      <td>080 40301477</td>\n",
       "      <td>Whitefield</td>\n",
       "      <td>Bar</td>\n",
       "      <td>NaN</td>\n",
       "      <td>Continental</td>\n",
       "      <td>1,500</td>\n",
       "      <td>[('Rated 5.0', \"RATED\\n  Food and service are ...</td>\n",
       "      <td>[]</td>\n",
       "      <td>Pubs and bars</td>\n",
       "      <td>Whitefield</td>\n",
       "    </tr>\n",
       "    <tr>\n",
       "      <th>51713</th>\n",
       "      <td>https://www.zomato.com/bangalore/vinod-bar-and...</td>\n",
       "      <td>Number 10, Garudachar Palya, Mahadevapura, Whi...</td>\n",
       "      <td>Vinod Bar And Restaurant</td>\n",
       "      <td>No</td>\n",
       "      <td>No</td>\n",
       "      <td>NaN</td>\n",
       "      <td>0</td>\n",
       "      <td>+91 8197675843</td>\n",
       "      <td>Whitefield</td>\n",
       "      <td>Bar</td>\n",
       "      <td>NaN</td>\n",
       "      <td>Finger Food</td>\n",
       "      <td>600</td>\n",
       "      <td>[]</td>\n",
       "      <td>[]</td>\n",
       "      <td>Pubs and bars</td>\n",
       "      <td>Whitefield</td>\n",
       "    </tr>\n",
       "    <tr>\n",
       "      <th>51714</th>\n",
       "      <td>https://www.zomato.com/bangalore/plunge-sherat...</td>\n",
       "      <td>Sheraton Grand Bengaluru Whitefield Hotel &amp; Co...</td>\n",
       "      <td>Plunge - Sheraton Grand Bengaluru Whitefield H...</td>\n",
       "      <td>No</td>\n",
       "      <td>No</td>\n",
       "      <td>NaN</td>\n",
       "      <td>0</td>\n",
       "      <td>NaN</td>\n",
       "      <td>Whitefield</td>\n",
       "      <td>Bar</td>\n",
       "      <td>NaN</td>\n",
       "      <td>Finger Food</td>\n",
       "      <td>2,000</td>\n",
       "      <td>[]</td>\n",
       "      <td>[]</td>\n",
       "      <td>Pubs and bars</td>\n",
       "      <td>Whitefield</td>\n",
       "    </tr>\n",
       "    <tr>\n",
       "      <th>51715</th>\n",
       "      <td>https://www.zomato.com/bangalore/chime-sherato...</td>\n",
       "      <td>Sheraton Grand Bengaluru Whitefield Hotel &amp; Co...</td>\n",
       "      <td>Chime - Sheraton Grand Bengaluru Whitefield Ho...</td>\n",
       "      <td>No</td>\n",
       "      <td>Yes</td>\n",
       "      <td>4.3 /5</td>\n",
       "      <td>236</td>\n",
       "      <td>080 49652769</td>\n",
       "      <td>ITPL Main Road, Whitefield</td>\n",
       "      <td>Bar</td>\n",
       "      <td>Cocktails, Pizza, Buttermilk</td>\n",
       "      <td>Finger Food</td>\n",
       "      <td>2,500</td>\n",
       "      <td>[('Rated 4.0', 'RATED\\n  Nice and friendly pla...</td>\n",
       "      <td>[]</td>\n",
       "      <td>Pubs and bars</td>\n",
       "      <td>Whitefield</td>\n",
       "    </tr>\n",
       "    <tr>\n",
       "      <th>51716</th>\n",
       "      <td>https://www.zomato.com/bangalore/the-nest-the-...</td>\n",
       "      <td>ITPL Main Road, KIADB Export Promotion Industr...</td>\n",
       "      <td>The Nest - The Den Bengaluru</td>\n",
       "      <td>No</td>\n",
       "      <td>No</td>\n",
       "      <td>3.4 /5</td>\n",
       "      <td>13</td>\n",
       "      <td>+91 8071117272</td>\n",
       "      <td>ITPL Main Road, Whitefield</td>\n",
       "      <td>Bar, Casual Dining</td>\n",
       "      <td>NaN</td>\n",
       "      <td>Finger Food, North Indian, Continental</td>\n",
       "      <td>1,500</td>\n",
       "      <td>[('Rated 5.0', 'RATED\\n  Great ambience , look...</td>\n",
       "      <td>[]</td>\n",
       "      <td>Pubs and bars</td>\n",
       "      <td>Whitefield</td>\n",
       "    </tr>\n",
       "  </tbody>\n",
       "</table>\n",
       "</div>"
      ],
      "text/plain": [
       "                                                     url  \\\n",
       "51707  https://www.zomato.com/bangalore/m-bar-bengalu...   \n",
       "51708  https://www.zomato.com/bangalore/keys-cafe-key...   \n",
       "51709  https://www.zomato.com/bangalore/the-farm-hous...   \n",
       "51710  https://www.zomato.com/bangalore/topsy-turvey-...   \n",
       "51711  https://www.zomato.com/bangalore/bhagini-2-whi...   \n",
       "51712  https://www.zomato.com/bangalore/best-brews-fo...   \n",
       "51713  https://www.zomato.com/bangalore/vinod-bar-and...   \n",
       "51714  https://www.zomato.com/bangalore/plunge-sherat...   \n",
       "51715  https://www.zomato.com/bangalore/chime-sherato...   \n",
       "51716  https://www.zomato.com/bangalore/the-nest-the-...   \n",
       "\n",
       "                                                 address  \\\n",
       "51707  Bengaluru Marriott Hotel, 75, 8th Road, EPIP A...   \n",
       "51708  Keys Hotel, 6, 1st Phase Industrial Area, Near...   \n",
       "51709  136, SAP Labs India, KIADB Export Promotion In...   \n",
       "51710  2E2, 4th Cross Road, Devasandra Industrial Est...   \n",
       "51711  139/C1, Next To GR Tech Park, Pattandur Agraha...   \n",
       "51712  Four Points by Sheraton Bengaluru, 43/3, White...   \n",
       "51713  Number 10, Garudachar Palya, Mahadevapura, Whi...   \n",
       "51714  Sheraton Grand Bengaluru Whitefield Hotel & Co...   \n",
       "51715  Sheraton Grand Bengaluru Whitefield Hotel & Co...   \n",
       "51716  ITPL Main Road, KIADB Export Promotion Industr...   \n",
       "\n",
       "                                                    name online_order  \\\n",
       "51707        M Bar - Bengaluru Marriott Hotel Whitefield           No   \n",
       "51708                             Keys Cafe - Keys Hotel           No   \n",
       "51709                         The Farm House Bar n Grill           No   \n",
       "51710                                       Topsy Turvey           No   \n",
       "51711                                            Bhagini           No   \n",
       "51712  Best Brews - Four Points by Sheraton Bengaluru...           No   \n",
       "51713                           Vinod Bar And Restaurant           No   \n",
       "51714  Plunge - Sheraton Grand Bengaluru Whitefield H...           No   \n",
       "51715  Chime - Sheraton Grand Bengaluru Whitefield Ho...           No   \n",
       "51716                       The Nest - The Den Bengaluru           No   \n",
       "\n",
       "      book_table    rate  votes                           phone  \\\n",
       "51707         No  3.9 /5     77                    080 49435000   \n",
       "51708         No  2.8 /5    161    080 39451000\\n+91 8884038484   \n",
       "51709         No  3.7 /5     34  +91 9980121279\\n+91 9900240646   \n",
       "51710         No     NaN      0                  +91 9148155994   \n",
       "51711         No  2.5 /5     81                    080 65951222   \n",
       "51712         No  3.6 /5     27                    080 40301477   \n",
       "51713         No     NaN      0                  +91 8197675843   \n",
       "51714         No     NaN      0                             NaN   \n",
       "51715        Yes  4.3 /5    236                    080 49652769   \n",
       "51716         No  3.4 /5     13                  +91 8071117272   \n",
       "\n",
       "                         location           rest_type  \\\n",
       "51707                  Whitefield    Fine Dining, Bar   \n",
       "51708                  Whitefield  Casual Dining, Bar   \n",
       "51709                  Whitefield  Casual Dining, Bar   \n",
       "51710                  Whitefield                 Bar   \n",
       "51711                  Whitefield  Casual Dining, Bar   \n",
       "51712                  Whitefield                 Bar   \n",
       "51713                  Whitefield                 Bar   \n",
       "51714                  Whitefield                 Bar   \n",
       "51715  ITPL Main Road, Whitefield                 Bar   \n",
       "51716  ITPL Main Road, Whitefield  Bar, Casual Dining   \n",
       "\n",
       "                                              dish_liked  \\\n",
       "51707                                   Rooftop Ambience   \n",
       "51708  Salads, Coffee, Breakfast Buffet, Halwa, Chick...   \n",
       "51709                                                NaN   \n",
       "51710                                                NaN   \n",
       "51711                               Biryani, Andhra Meal   \n",
       "51712                                                NaN   \n",
       "51713                                                NaN   \n",
       "51714                                                NaN   \n",
       "51715                       Cocktails, Pizza, Buttermilk   \n",
       "51716                                                NaN   \n",
       "\n",
       "                                          cuisines  \\\n",
       "51707                                  Finger Food   \n",
       "51708           Chinese, Continental, North Indian   \n",
       "51709                    North Indian, Continental   \n",
       "51710                                  Finger Food   \n",
       "51711  Andhra, South Indian, Chinese, North Indian   \n",
       "51712                                  Continental   \n",
       "51713                                  Finger Food   \n",
       "51714                                  Finger Food   \n",
       "51715                                  Finger Food   \n",
       "51716       Finger Food, North Indian, Continental   \n",
       "\n",
       "      approx_cost(for two people)  \\\n",
       "51707                       2,000   \n",
       "51708                       1,200   \n",
       "51709                         800   \n",
       "51710                         900   \n",
       "51711                         800   \n",
       "51712                       1,500   \n",
       "51713                         600   \n",
       "51714                       2,000   \n",
       "51715                       2,500   \n",
       "51716                       1,500   \n",
       "\n",
       "                                            reviews_list menu_item  \\\n",
       "51707  [('Rated 4.0', 'RATED\\n  Went there post dinne...        []   \n",
       "51708  [('Rated 3.0', 'RATED\\n  Place is good not tha...        []   \n",
       "51709  [('Rated 4.0', 'RATED\\n  Ambience- Big and spa...        []   \n",
       "51710  [('Rated 4.0', \"RATED\\n  A divine joint for Fl...        []   \n",
       "51711  [('Rated 4.0', 'RATED\\n  A fine place to chill...        []   \n",
       "51712  [('Rated 5.0', \"RATED\\n  Food and service are ...        []   \n",
       "51713                                                 []        []   \n",
       "51714                                                 []        []   \n",
       "51715  [('Rated 4.0', 'RATED\\n  Nice and friendly pla...        []   \n",
       "51716  [('Rated 5.0', 'RATED\\n  Great ambience , look...        []   \n",
       "\n",
       "      listed_in(type) listed_in(city)  \n",
       "51707   Pubs and bars      Whitefield  \n",
       "51708   Pubs and bars      Whitefield  \n",
       "51709   Pubs and bars      Whitefield  \n",
       "51710   Pubs and bars      Whitefield  \n",
       "51711   Pubs and bars      Whitefield  \n",
       "51712   Pubs and bars      Whitefield  \n",
       "51713   Pubs and bars      Whitefield  \n",
       "51714   Pubs and bars      Whitefield  \n",
       "51715   Pubs and bars      Whitefield  \n",
       "51716   Pubs and bars      Whitefield  "
      ]
     },
     "execution_count": 293,
     "metadata": {},
     "output_type": "execute_result"
    }
   ],
   "source": [
    "df.tail(10)"
   ]
  },
  {
   "cell_type": "code",
   "execution_count": 294,
   "metadata": {},
   "outputs": [
    {
     "data": {
      "text/plain": [
       "url                            51717\n",
       "address                        51717\n",
       "name                           51717\n",
       "online_order                   51717\n",
       "book_table                     51717\n",
       "rate                           43942\n",
       "votes                          51717\n",
       "phone                          50509\n",
       "location                       51696\n",
       "rest_type                      51490\n",
       "dish_liked                     23639\n",
       "cuisines                       51672\n",
       "approx_cost(for two people)    51371\n",
       "reviews_list                   51717\n",
       "menu_item                      51717\n",
       "listed_in(type)                51717\n",
       "listed_in(city)                51717\n",
       "dtype: int64"
      ]
     },
     "execution_count": 294,
     "metadata": {},
     "output_type": "execute_result"
    }
   ],
   "source": [
    "df.count()"
   ]
  },
  {
   "cell_type": "markdown",
   "metadata": {},
   "source": [
    "#### The names of columns are a bit non descriptive and confusing so its better to rename some of these columns."
   ]
  },
  {
   "cell_type": "code",
   "execution_count": 295,
   "metadata": {},
   "outputs": [],
   "source": [
    "df.rename(columns={'approx_cost(for two people)': 'two_people_cost', 'listed_in(type)':'table_service', \n",
    "                   'listed_in(city)':'locations'}, inplace=True)"
   ]
  },
  {
   "cell_type": "markdown",
   "metadata": {},
   "source": [
    "#### The url and phone number of the restaurants can't justify their ratings or reviews. So, we drop these unnecessary features"
   ]
  },
  {
   "cell_type": "code",
   "execution_count": 296,
   "metadata": {},
   "outputs": [],
   "source": [
    "df.drop(columns=['url','phone'] , inplace=True)"
   ]
  },
  {
   "cell_type": "code",
   "execution_count": 297,
   "metadata": {},
   "outputs": [
    {
     "data": {
      "text/html": [
       "<div>\n",
       "<style scoped>\n",
       "    .dataframe tbody tr th:only-of-type {\n",
       "        vertical-align: middle;\n",
       "    }\n",
       "\n",
       "    .dataframe tbody tr th {\n",
       "        vertical-align: top;\n",
       "    }\n",
       "\n",
       "    .dataframe thead th {\n",
       "        text-align: right;\n",
       "    }\n",
       "</style>\n",
       "<table border=\"1\" class=\"dataframe\">\n",
       "  <thead>\n",
       "    <tr style=\"text-align: right;\">\n",
       "      <th></th>\n",
       "      <th>address</th>\n",
       "      <th>name</th>\n",
       "      <th>online_order</th>\n",
       "      <th>book_table</th>\n",
       "      <th>rate</th>\n",
       "      <th>votes</th>\n",
       "      <th>location</th>\n",
       "      <th>rest_type</th>\n",
       "      <th>dish_liked</th>\n",
       "      <th>cuisines</th>\n",
       "      <th>two_people_cost</th>\n",
       "      <th>reviews_list</th>\n",
       "      <th>menu_item</th>\n",
       "      <th>table_service</th>\n",
       "      <th>locations</th>\n",
       "    </tr>\n",
       "  </thead>\n",
       "  <tbody>\n",
       "    <tr>\n",
       "      <th>0</th>\n",
       "      <td>942, 21st Main Road, 2nd Stage, Banashankari, ...</td>\n",
       "      <td>Jalsa</td>\n",
       "      <td>Yes</td>\n",
       "      <td>Yes</td>\n",
       "      <td>4.1/5</td>\n",
       "      <td>775</td>\n",
       "      <td>Banashankari</td>\n",
       "      <td>Casual Dining</td>\n",
       "      <td>Pasta, Lunch Buffet, Masala Papad, Paneer Laja...</td>\n",
       "      <td>North Indian, Mughlai, Chinese</td>\n",
       "      <td>800</td>\n",
       "      <td>[('Rated 4.0', 'RATED\\n  A beautiful place to ...</td>\n",
       "      <td>[]</td>\n",
       "      <td>Buffet</td>\n",
       "      <td>Banashankari</td>\n",
       "    </tr>\n",
       "    <tr>\n",
       "      <th>1</th>\n",
       "      <td>2nd Floor, 80 Feet Road, Near Big Bazaar, 6th ...</td>\n",
       "      <td>Spice Elephant</td>\n",
       "      <td>Yes</td>\n",
       "      <td>No</td>\n",
       "      <td>4.1/5</td>\n",
       "      <td>787</td>\n",
       "      <td>Banashankari</td>\n",
       "      <td>Casual Dining</td>\n",
       "      <td>Momos, Lunch Buffet, Chocolate Nirvana, Thai G...</td>\n",
       "      <td>Chinese, North Indian, Thai</td>\n",
       "      <td>800</td>\n",
       "      <td>[('Rated 4.0', 'RATED\\n  Had been here for din...</td>\n",
       "      <td>[]</td>\n",
       "      <td>Buffet</td>\n",
       "      <td>Banashankari</td>\n",
       "    </tr>\n",
       "    <tr>\n",
       "      <th>2</th>\n",
       "      <td>1112, Next to KIMS Medical College, 17th Cross...</td>\n",
       "      <td>San Churro Cafe</td>\n",
       "      <td>Yes</td>\n",
       "      <td>No</td>\n",
       "      <td>3.8/5</td>\n",
       "      <td>918</td>\n",
       "      <td>Banashankari</td>\n",
       "      <td>Cafe, Casual Dining</td>\n",
       "      <td>Churros, Cannelloni, Minestrone Soup, Hot Choc...</td>\n",
       "      <td>Cafe, Mexican, Italian</td>\n",
       "      <td>800</td>\n",
       "      <td>[('Rated 3.0', \"RATED\\n  Ambience is not that ...</td>\n",
       "      <td>[]</td>\n",
       "      <td>Buffet</td>\n",
       "      <td>Banashankari</td>\n",
       "    </tr>\n",
       "    <tr>\n",
       "      <th>3</th>\n",
       "      <td>1st Floor, Annakuteera, 3rd Stage, Banashankar...</td>\n",
       "      <td>Addhuri Udupi Bhojana</td>\n",
       "      <td>No</td>\n",
       "      <td>No</td>\n",
       "      <td>3.7/5</td>\n",
       "      <td>88</td>\n",
       "      <td>Banashankari</td>\n",
       "      <td>Quick Bites</td>\n",
       "      <td>Masala Dosa</td>\n",
       "      <td>South Indian, North Indian</td>\n",
       "      <td>300</td>\n",
       "      <td>[('Rated 4.0', \"RATED\\n  Great food and proper...</td>\n",
       "      <td>[]</td>\n",
       "      <td>Buffet</td>\n",
       "      <td>Banashankari</td>\n",
       "    </tr>\n",
       "    <tr>\n",
       "      <th>4</th>\n",
       "      <td>10, 3rd Floor, Lakshmi Associates, Gandhi Baza...</td>\n",
       "      <td>Grand Village</td>\n",
       "      <td>No</td>\n",
       "      <td>No</td>\n",
       "      <td>3.8/5</td>\n",
       "      <td>166</td>\n",
       "      <td>Basavanagudi</td>\n",
       "      <td>Casual Dining</td>\n",
       "      <td>Panipuri, Gol Gappe</td>\n",
       "      <td>North Indian, Rajasthani</td>\n",
       "      <td>600</td>\n",
       "      <td>[('Rated 4.0', 'RATED\\n  Very good restaurant ...</td>\n",
       "      <td>[]</td>\n",
       "      <td>Buffet</td>\n",
       "      <td>Banashankari</td>\n",
       "    </tr>\n",
       "  </tbody>\n",
       "</table>\n",
       "</div>"
      ],
      "text/plain": [
       "                                             address                   name  \\\n",
       "0  942, 21st Main Road, 2nd Stage, Banashankari, ...                  Jalsa   \n",
       "1  2nd Floor, 80 Feet Road, Near Big Bazaar, 6th ...         Spice Elephant   \n",
       "2  1112, Next to KIMS Medical College, 17th Cross...        San Churro Cafe   \n",
       "3  1st Floor, Annakuteera, 3rd Stage, Banashankar...  Addhuri Udupi Bhojana   \n",
       "4  10, 3rd Floor, Lakshmi Associates, Gandhi Baza...          Grand Village   \n",
       "\n",
       "  online_order book_table   rate  votes      location            rest_type  \\\n",
       "0          Yes        Yes  4.1/5    775  Banashankari        Casual Dining   \n",
       "1          Yes         No  4.1/5    787  Banashankari        Casual Dining   \n",
       "2          Yes         No  3.8/5    918  Banashankari  Cafe, Casual Dining   \n",
       "3           No         No  3.7/5     88  Banashankari          Quick Bites   \n",
       "4           No         No  3.8/5    166  Basavanagudi        Casual Dining   \n",
       "\n",
       "                                          dish_liked  \\\n",
       "0  Pasta, Lunch Buffet, Masala Papad, Paneer Laja...   \n",
       "1  Momos, Lunch Buffet, Chocolate Nirvana, Thai G...   \n",
       "2  Churros, Cannelloni, Minestrone Soup, Hot Choc...   \n",
       "3                                        Masala Dosa   \n",
       "4                                Panipuri, Gol Gappe   \n",
       "\n",
       "                         cuisines two_people_cost  \\\n",
       "0  North Indian, Mughlai, Chinese             800   \n",
       "1     Chinese, North Indian, Thai             800   \n",
       "2          Cafe, Mexican, Italian             800   \n",
       "3      South Indian, North Indian             300   \n",
       "4        North Indian, Rajasthani             600   \n",
       "\n",
       "                                        reviews_list menu_item table_service  \\\n",
       "0  [('Rated 4.0', 'RATED\\n  A beautiful place to ...        []        Buffet   \n",
       "1  [('Rated 4.0', 'RATED\\n  Had been here for din...        []        Buffet   \n",
       "2  [('Rated 3.0', \"RATED\\n  Ambience is not that ...        []        Buffet   \n",
       "3  [('Rated 4.0', \"RATED\\n  Great food and proper...        []        Buffet   \n",
       "4  [('Rated 4.0', 'RATED\\n  Very good restaurant ...        []        Buffet   \n",
       "\n",
       "      locations  \n",
       "0  Banashankari  \n",
       "1  Banashankari  \n",
       "2  Banashankari  \n",
       "3  Banashankari  \n",
       "4  Banashankari  "
      ]
     },
     "execution_count": 297,
     "metadata": {},
     "output_type": "execute_result"
    }
   ],
   "source": [
    "df.head()"
   ]
  },
  {
   "cell_type": "markdown",
   "metadata": {},
   "source": [
    "## Cleaning the dataset"
   ]
  },
  {
   "cell_type": "code",
   "execution_count": 298,
   "metadata": {},
   "outputs": [
    {
     "data": {
      "text/plain": [
       "address            51717\n",
       "name               51717\n",
       "online_order       51717\n",
       "book_table         51717\n",
       "rate               43942\n",
       "votes              51717\n",
       "location           51696\n",
       "rest_type          51490\n",
       "dish_liked         23639\n",
       "cuisines           51672\n",
       "two_people_cost    51371\n",
       "reviews_list       51717\n",
       "menu_item          51717\n",
       "table_service      51717\n",
       "locations          51717\n",
       "dtype: int64"
      ]
     },
     "execution_count": 298,
     "metadata": {},
     "output_type": "execute_result"
    }
   ],
   "source": [
    "df.count()"
   ]
  },
  {
   "cell_type": "markdown",
   "metadata": {},
   "source": [
    "#### Replace the unknown rating i.e \"-\" and \"NEW\" to null."
   ]
  },
  {
   "cell_type": "code",
   "execution_count": 299,
   "metadata": {},
   "outputs": [],
   "source": [
    "df['rate']=df['rate'].replace('NEW',np.nan)\n",
    "df['rate']=df['rate'].replace('-',np.nan)\n",
    "df.dropna(how='any',inplace=True)\n",
    "df['rate'] = df.loc[:,'rate'].replace('[ ]','',regex = True)"
   ]
  },
  {
   "cell_type": "code",
   "execution_count": 300,
   "metadata": {},
   "outputs": [
    {
     "data": {
      "text/plain": [
       "address            23259\n",
       "name               23259\n",
       "online_order       23259\n",
       "book_table         23259\n",
       "rate               23259\n",
       "votes              23259\n",
       "location           23259\n",
       "rest_type          23259\n",
       "dish_liked         23259\n",
       "cuisines           23259\n",
       "two_people_cost    23259\n",
       "reviews_list       23259\n",
       "menu_item          23259\n",
       "table_service      23259\n",
       "locations          23259\n",
       "dtype: int64"
      ]
     },
     "execution_count": 300,
     "metadata": {},
     "output_type": "execute_result"
    }
   ],
   "source": [
    "df.count()"
   ]
  },
  {
   "cell_type": "markdown",
   "metadata": {},
   "source": [
    "#### As can be seen the rate column is string type with an extra \"/5\" with all the ratings. This should be cleaned. Later, It is important to convert the string back to float !!"
   ]
  },
  {
   "cell_type": "code",
   "execution_count": 301,
   "metadata": {},
   "outputs": [
    {
     "data": {
      "text/plain": [
       "0    4.1\n",
       "1    4.1\n",
       "2    3.8\n",
       "3    3.7\n",
       "4    3.8\n",
       "Name: rate, dtype: float64"
      ]
     },
     "execution_count": 301,
     "metadata": {},
     "output_type": "execute_result"
    }
   ],
   "source": [
    "df['rate']=df['rate'].astype(str)\n",
    "df['rate']=df['rate'].apply(lambda x : x.replace('/5',''))\n",
    "df['rate']=df['rate'].apply(lambda x : float(x))\n",
    "df['rate'].head()"
   ]
  },
  {
   "cell_type": "code",
   "execution_count": 302,
   "metadata": {},
   "outputs": [
    {
     "data": {
      "text/plain": [
       "51705    1,200\n",
       "51707    2,000\n",
       "51708    1,200\n",
       "51711      800\n",
       "51715    2,500\n",
       "Name: two_people_cost, dtype: object"
      ]
     },
     "execution_count": 302,
     "metadata": {},
     "output_type": "execute_result"
    }
   ],
   "source": [
    "df['two_people_cost'].tail(5)"
   ]
  },
  {
   "cell_type": "markdown",
   "metadata": {},
   "source": [
    "#### As can be seen the two_people_cost is object type column consist of comma i.e \" , \" with most of the costs. This comma should be cleaned. "
   ]
  },
  {
   "cell_type": "code",
   "execution_count": 303,
   "metadata": {},
   "outputs": [
    {
     "data": {
      "text/plain": [
       "51705    1200\n",
       "51707    2000\n",
       "51708    1200\n",
       "51711     800\n",
       "51715    2500\n",
       "Name: two_people_cost, dtype: object"
      ]
     },
     "execution_count": 303,
     "metadata": {},
     "output_type": "execute_result"
    }
   ],
   "source": [
    "df['two_people_cost']=df['two_people_cost'].str.replace(',','')\n",
    "df['two_people_cost'].tail()"
   ]
  },
  {
   "cell_type": "code",
   "execution_count": 307,
   "metadata": {},
   "outputs": [
    {
     "data": {
      "text/plain": [
       "dtype('int32')"
      ]
     },
     "execution_count": 307,
     "metadata": {},
     "output_type": "execute_result"
    }
   ],
   "source": [
    "df['two_people_cost'] = df['two_people_cost'].astype(int)\n",
    "df['two_people_cost'].dtypes"
   ]
  },
  {
   "cell_type": "code",
   "execution_count": 308,
   "metadata": {},
   "outputs": [
    {
     "data": {
      "text/html": [
       "<div>\n",
       "<style scoped>\n",
       "    .dataframe tbody tr th:only-of-type {\n",
       "        vertical-align: middle;\n",
       "    }\n",
       "\n",
       "    .dataframe tbody tr th {\n",
       "        vertical-align: top;\n",
       "    }\n",
       "\n",
       "    .dataframe thead th {\n",
       "        text-align: right;\n",
       "    }\n",
       "</style>\n",
       "<table border=\"1\" class=\"dataframe\">\n",
       "  <thead>\n",
       "    <tr style=\"text-align: right;\">\n",
       "      <th></th>\n",
       "      <th>address</th>\n",
       "      <th>name</th>\n",
       "      <th>online_order</th>\n",
       "      <th>book_table</th>\n",
       "      <th>rate</th>\n",
       "      <th>votes</th>\n",
       "      <th>location</th>\n",
       "      <th>rest_type</th>\n",
       "      <th>dish_liked</th>\n",
       "      <th>cuisines</th>\n",
       "      <th>two_people_cost</th>\n",
       "      <th>reviews_list</th>\n",
       "      <th>menu_item</th>\n",
       "      <th>table_service</th>\n",
       "      <th>locations</th>\n",
       "    </tr>\n",
       "  </thead>\n",
       "  <tbody>\n",
       "    <tr>\n",
       "      <th>0</th>\n",
       "      <td>942, 21st Main Road, 2nd Stage, Banashankari, ...</td>\n",
       "      <td>Jalsa</td>\n",
       "      <td>Yes</td>\n",
       "      <td>Yes</td>\n",
       "      <td>4.1</td>\n",
       "      <td>775</td>\n",
       "      <td>Banashankari</td>\n",
       "      <td>Casual Dining</td>\n",
       "      <td>Pasta, Lunch Buffet, Masala Papad, Paneer Laja...</td>\n",
       "      <td>North Indian, Mughlai, Chinese</td>\n",
       "      <td>800</td>\n",
       "      <td>[('Rated 4.0', 'RATED\\n  A beautiful place to ...</td>\n",
       "      <td>[]</td>\n",
       "      <td>Buffet</td>\n",
       "      <td>Banashankari</td>\n",
       "    </tr>\n",
       "    <tr>\n",
       "      <th>1</th>\n",
       "      <td>2nd Floor, 80 Feet Road, Near Big Bazaar, 6th ...</td>\n",
       "      <td>Spice Elephant</td>\n",
       "      <td>Yes</td>\n",
       "      <td>No</td>\n",
       "      <td>4.1</td>\n",
       "      <td>787</td>\n",
       "      <td>Banashankari</td>\n",
       "      <td>Casual Dining</td>\n",
       "      <td>Momos, Lunch Buffet, Chocolate Nirvana, Thai G...</td>\n",
       "      <td>Chinese, North Indian, Thai</td>\n",
       "      <td>800</td>\n",
       "      <td>[('Rated 4.0', 'RATED\\n  Had been here for din...</td>\n",
       "      <td>[]</td>\n",
       "      <td>Buffet</td>\n",
       "      <td>Banashankari</td>\n",
       "    </tr>\n",
       "    <tr>\n",
       "      <th>2</th>\n",
       "      <td>1112, Next to KIMS Medical College, 17th Cross...</td>\n",
       "      <td>San Churro Cafe</td>\n",
       "      <td>Yes</td>\n",
       "      <td>No</td>\n",
       "      <td>3.8</td>\n",
       "      <td>918</td>\n",
       "      <td>Banashankari</td>\n",
       "      <td>Cafe, Casual Dining</td>\n",
       "      <td>Churros, Cannelloni, Minestrone Soup, Hot Choc...</td>\n",
       "      <td>Cafe, Mexican, Italian</td>\n",
       "      <td>800</td>\n",
       "      <td>[('Rated 3.0', \"RATED\\n  Ambience is not that ...</td>\n",
       "      <td>[]</td>\n",
       "      <td>Buffet</td>\n",
       "      <td>Banashankari</td>\n",
       "    </tr>\n",
       "    <tr>\n",
       "      <th>3</th>\n",
       "      <td>1st Floor, Annakuteera, 3rd Stage, Banashankar...</td>\n",
       "      <td>Addhuri Udupi Bhojana</td>\n",
       "      <td>No</td>\n",
       "      <td>No</td>\n",
       "      <td>3.7</td>\n",
       "      <td>88</td>\n",
       "      <td>Banashankari</td>\n",
       "      <td>Quick Bites</td>\n",
       "      <td>Masala Dosa</td>\n",
       "      <td>South Indian, North Indian</td>\n",
       "      <td>300</td>\n",
       "      <td>[('Rated 4.0', \"RATED\\n  Great food and proper...</td>\n",
       "      <td>[]</td>\n",
       "      <td>Buffet</td>\n",
       "      <td>Banashankari</td>\n",
       "    </tr>\n",
       "    <tr>\n",
       "      <th>4</th>\n",
       "      <td>10, 3rd Floor, Lakshmi Associates, Gandhi Baza...</td>\n",
       "      <td>Grand Village</td>\n",
       "      <td>No</td>\n",
       "      <td>No</td>\n",
       "      <td>3.8</td>\n",
       "      <td>166</td>\n",
       "      <td>Basavanagudi</td>\n",
       "      <td>Casual Dining</td>\n",
       "      <td>Panipuri, Gol Gappe</td>\n",
       "      <td>North Indian, Rajasthani</td>\n",
       "      <td>600</td>\n",
       "      <td>[('Rated 4.0', 'RATED\\n  Very good restaurant ...</td>\n",
       "      <td>[]</td>\n",
       "      <td>Buffet</td>\n",
       "      <td>Banashankari</td>\n",
       "    </tr>\n",
       "  </tbody>\n",
       "</table>\n",
       "</div>"
      ],
      "text/plain": [
       "                                             address                   name  \\\n",
       "0  942, 21st Main Road, 2nd Stage, Banashankari, ...                  Jalsa   \n",
       "1  2nd Floor, 80 Feet Road, Near Big Bazaar, 6th ...         Spice Elephant   \n",
       "2  1112, Next to KIMS Medical College, 17th Cross...        San Churro Cafe   \n",
       "3  1st Floor, Annakuteera, 3rd Stage, Banashankar...  Addhuri Udupi Bhojana   \n",
       "4  10, 3rd Floor, Lakshmi Associates, Gandhi Baza...          Grand Village   \n",
       "\n",
       "  online_order book_table  rate  votes      location            rest_type  \\\n",
       "0          Yes        Yes   4.1    775  Banashankari        Casual Dining   \n",
       "1          Yes         No   4.1    787  Banashankari        Casual Dining   \n",
       "2          Yes         No   3.8    918  Banashankari  Cafe, Casual Dining   \n",
       "3           No         No   3.7     88  Banashankari          Quick Bites   \n",
       "4           No         No   3.8    166  Basavanagudi        Casual Dining   \n",
       "\n",
       "                                          dish_liked  \\\n",
       "0  Pasta, Lunch Buffet, Masala Papad, Paneer Laja...   \n",
       "1  Momos, Lunch Buffet, Chocolate Nirvana, Thai G...   \n",
       "2  Churros, Cannelloni, Minestrone Soup, Hot Choc...   \n",
       "3                                        Masala Dosa   \n",
       "4                                Panipuri, Gol Gappe   \n",
       "\n",
       "                         cuisines  two_people_cost  \\\n",
       "0  North Indian, Mughlai, Chinese              800   \n",
       "1     Chinese, North Indian, Thai              800   \n",
       "2          Cafe, Mexican, Italian              800   \n",
       "3      South Indian, North Indian              300   \n",
       "4        North Indian, Rajasthani              600   \n",
       "\n",
       "                                        reviews_list menu_item table_service  \\\n",
       "0  [('Rated 4.0', 'RATED\\n  A beautiful place to ...        []        Buffet   \n",
       "1  [('Rated 4.0', 'RATED\\n  Had been here for din...        []        Buffet   \n",
       "2  [('Rated 3.0', \"RATED\\n  Ambience is not that ...        []        Buffet   \n",
       "3  [('Rated 4.0', \"RATED\\n  Great food and proper...        []        Buffet   \n",
       "4  [('Rated 4.0', 'RATED\\n  Very good restaurant ...        []        Buffet   \n",
       "\n",
       "      locations  \n",
       "0  Banashankari  \n",
       "1  Banashankari  \n",
       "2  Banashankari  \n",
       "3  Banashankari  \n",
       "4  Banashankari  "
      ]
     },
     "execution_count": 308,
     "metadata": {},
     "output_type": "execute_result"
    }
   ],
   "source": [
    "df.head()"
   ]
  },
  {
   "cell_type": "markdown",
   "metadata": {},
   "source": [
    "## Data Visualization"
   ]
  },
  {
   "cell_type": "markdown",
   "metadata": {},
   "source": [
    "#### Are the locations of restaurants localised to specific parts of city?"
   ]
  },
  {
   "cell_type": "code",
   "execution_count": 309,
   "metadata": {},
   "outputs": [
    {
     "data": {
      "text/plain": [
       "<matplotlib.axes._subplots.AxesSubplot at 0x22374ac8358>"
      ]
     },
     "execution_count": 309,
     "metadata": {},
     "output_type": "execute_result"
    },
    {
     "data": {
      "image/png": "[encoded data removed]",
      "text/plain": [
       "<Figure size 864x864 with 1 Axes>"
      ]
     },
     "metadata": {
      "needs_background": "light"
     },
     "output_type": "display_data"
    }
   ],
   "source": [
    "df['locations'].value_counts().sort_values().plot(kind='barh', figsize=(12,12), title='Number of restaurants by location')"
   ]
  },
  {
   "cell_type": "markdown",
   "metadata": {},
   "source": [
    "#### Is there a relation between online order option and rating of the restaurant?"
   ]
  },
  {
   "cell_type": "code",
   "execution_count": 310,
   "metadata": {},
   "outputs": [
    {
     "data": {
      "text/plain": [
       "<matplotlib.axes._subplots.AxesSubplot at 0x22353966160>"
      ]
     },
     "execution_count": 310,
     "metadata": {},
     "output_type": "execute_result"
    },
    {
     "data": {
      "image/png": "[encoded data removed]",
      "text/plain": [
       "<Figure size 1080x648 with 1 Axes>"
      ]
     },
     "metadata": {
      "needs_background": "light"
     },
     "output_type": "display_data"
    }
   ],
   "source": [
    "df['online_order'].value_counts().plot(kind='bar', title='online orders')"
   ]
  },
  {
   "cell_type": "code",
   "execution_count": 311,
   "metadata": {},
   "outputs": [
    {
     "data": {
      "image/png": "[encoded data removed]",
      "text/plain": [
       "<Figure size 1080x648 with 1 Axes>"
      ]
     },
     "metadata": {
      "needs_background": "light"
     },
     "output_type": "display_data"
    }
   ],
   "source": [
    "x = pd.crosstab(df['rate'], df['online_order'])\n",
    "x.div(x.sum(1).astype(float), axis = 0 ).plot(kind = 'bar', stacked = True,color=['red','yellow'])\n",
    "plt.title('online order vs rate')\n",
    "plt.legend(loc=\"upper right\")\n",
    "plt.show()"
   ]
  },
  {
   "cell_type": "markdown",
   "metadata": {},
   "source": [
    "#### Restaurants are more likely to receive a higher rating if they offers online order option."
   ]
  },
  {
   "cell_type": "markdown",
   "metadata": {},
   "source": [
    "#### Is there a relation between table booking option and rating of the restaurant?"
   ]
  },
  {
   "cell_type": "code",
   "execution_count": 312,
   "metadata": {},
   "outputs": [
    {
     "data": {
      "text/plain": [
       "<matplotlib.axes._subplots.AxesSubplot at 0x22352f2d668>"
      ]
     },
     "execution_count": 312,
     "metadata": {},
     "output_type": "execute_result"
    },
    {
     "data": {
      "image/png": "[encoded data removed]",
      "text/plain": [
       "<Figure size 1080x648 with 1 Axes>"
      ]
     },
     "metadata": {
      "needs_background": "light"
     },
     "output_type": "display_data"
    }
   ],
   "source": [
    "df['book_table'].value_counts().plot(kind='bar', title='Table booking' )"
   ]
  },
  {
   "cell_type": "code",
   "execution_count": 313,
   "metadata": {},
   "outputs": [
    {
     "data": {
      "image/png": "[encoded data removed]",
      "text/plain": [
       "<Figure size 1080x648 with 1 Axes>"
      ]
     },
     "metadata": {
      "needs_background": "light"
     },
     "output_type": "display_data"
    }
   ],
   "source": [
    "x = pd.crosstab(df['rate'], df['book_table'])\n",
    "x.div(x.sum(1).astype(float), axis = 0 ).plot(kind = 'bar', stacked = True,color=['red','yellow'])\n",
    "plt.title('table booking vs rate')\n",
    "plt.legend(loc=\"upper right\")\n",
    "plt.show()"
   ]
  },
  {
   "cell_type": "markdown",
   "metadata": {},
   "source": [
    "#### It can be said that the table booking option majorly happens with the Highly rated restaurants."
   ]
  },
  {
   "cell_type": "code",
   "execution_count": 314,
   "metadata": {},
   "outputs": [],
   "source": [
    "bins=[0,500,1000,1500,2000,2500,3000,3500,4000,4500,5000,5500,6000]\n",
    "df['costbins']=pd.cut(df['two_people_cost'],bins)"
   ]
  },
  {
   "cell_type": "code",
   "execution_count": 315,
   "metadata": {},
   "outputs": [
    {
     "data": {
      "text/plain": [
       "<matplotlib.axes._subplots.AxesSubplot at 0x22352cb1f28>"
      ]
     },
     "execution_count": 315,
     "metadata": {},
     "output_type": "execute_result"
    },
    {
     "data": {
      "image/png": "[encoded data removed]",
      "text/plain": [
       "<Figure size 720x360 with 1 Axes>"
      ]
     },
     "metadata": {
      "needs_background": "light"
     },
     "output_type": "display_data"
    }
   ],
   "source": [
    "df['costbins'].value_counts().plot(kind = 'bar', figsize = (10,5))"
   ]
  },
  {
   "cell_type": "markdown",
   "metadata": {},
   "source": [
    "####  The highest frequency for cost of two people is around 800"
   ]
  },
  {
   "cell_type": "code",
   "execution_count": 316,
   "metadata": {},
   "outputs": [
    {
     "data": {
      "text/plain": [
       "<matplotlib.axes._subplots.AxesSubplot at 0x22353d2eda0>"
      ]
     },
     "execution_count": 316,
     "metadata": {},
     "output_type": "execute_result"
    },
    {
     "data": {
      "image/png": "[encoded data removed]",
      "text/plain": [
       "<Figure size 720x360 with 1 Axes>"
      ]
     },
     "metadata": {
      "needs_background": "light"
     },
     "output_type": "display_data"
    }
   ],
   "source": [
    "df['table_service'].value_counts().plot(kind = 'bar',figsize = (10,5),title = 'Number of restaurants by service type')"
   ]
  },
  {
   "cell_type": "markdown",
   "metadata": {},
   "source": [
    "#### It is seen that Delivery is the most popular service type followed by Dine-Out"
   ]
  },
  {
   "cell_type": "markdown",
   "metadata": {},
   "source": [
    "## Finding the best restaurants"
   ]
  },
  {
   "cell_type": "markdown",
   "metadata": {},
   "source": [
    "#### The criteria for best restaurants would be cheapest and highly rated"
   ]
  },
  {
   "cell_type": "code",
   "execution_count": 317,
   "metadata": {},
   "outputs": [
    {
     "data": {
      "text/html": [
       "<div>\n",
       "<style scoped>\n",
       "    .dataframe tbody tr th:only-of-type {\n",
       "        vertical-align: middle;\n",
       "    }\n",
       "\n",
       "    .dataframe tbody tr th {\n",
       "        vertical-align: top;\n",
       "    }\n",
       "\n",
       "    .dataframe thead th {\n",
       "        text-align: right;\n",
       "    }\n",
       "</style>\n",
       "<table border=\"1\" class=\"dataframe\">\n",
       "  <thead>\n",
       "    <tr style=\"text-align: right;\">\n",
       "      <th></th>\n",
       "      <th>name</th>\n",
       "      <th>rate</th>\n",
       "      <th>two_people_cost</th>\n",
       "      <th>locations</th>\n",
       "      <th>book_table</th>\n",
       "      <th>address</th>\n",
       "    </tr>\n",
       "  </thead>\n",
       "  <tbody>\n",
       "    <tr>\n",
       "      <th>0</th>\n",
       "      <td>Jalsa</td>\n",
       "      <td>4.1</td>\n",
       "      <td>800</td>\n",
       "      <td>Banashankari</td>\n",
       "      <td>Yes</td>\n",
       "      <td>942, 21st Main Road, 2nd Stage, Banashankari, ...</td>\n",
       "    </tr>\n",
       "    <tr>\n",
       "      <th>7</th>\n",
       "      <td>Onesta</td>\n",
       "      <td>4.6</td>\n",
       "      <td>600</td>\n",
       "      <td>Banashankari</td>\n",
       "      <td>Yes</td>\n",
       "      <td>2469, 3rd Floor, 24th Cross, Opposite BDA Comp...</td>\n",
       "    </tr>\n",
       "    <tr>\n",
       "      <th>11</th>\n",
       "      <td>Cafe Shuffle</td>\n",
       "      <td>4.2</td>\n",
       "      <td>600</td>\n",
       "      <td>Banashankari</td>\n",
       "      <td>Yes</td>\n",
       "      <td>941, 3rd FLOOR, 21st Main, 22nd Cross, Banasha...</td>\n",
       "    </tr>\n",
       "    <tr>\n",
       "      <th>12</th>\n",
       "      <td>The Coffee Shack</td>\n",
       "      <td>4.2</td>\n",
       "      <td>500</td>\n",
       "      <td>Banashankari</td>\n",
       "      <td>Yes</td>\n",
       "      <td>6th Block, 3rd Stage, Banashankari, Bangalore</td>\n",
       "    </tr>\n",
       "    <tr>\n",
       "      <th>44</th>\n",
       "      <td>Onesta</td>\n",
       "      <td>4.6</td>\n",
       "      <td>600</td>\n",
       "      <td>Banashankari</td>\n",
       "      <td>Yes</td>\n",
       "      <td>2469, 3rd Floor, 24th Cross, Opposite BDA Comp...</td>\n",
       "    </tr>\n",
       "    <tr>\n",
       "      <th>57</th>\n",
       "      <td>Wamama</td>\n",
       "      <td>4.2</td>\n",
       "      <td>800</td>\n",
       "      <td>Banashankari</td>\n",
       "      <td>Yes</td>\n",
       "      <td>2466, Bhaskar Grand Tower, 24th Cross, Opposit...</td>\n",
       "    </tr>\n",
       "    <tr>\n",
       "      <th>148</th>\n",
       "      <td>Sri Udupi Food Hub</td>\n",
       "      <td>4.1</td>\n",
       "      <td>500</td>\n",
       "      <td>Banashankari</td>\n",
       "      <td>Yes</td>\n",
       "      <td>155, 43rd Cross Road, 8th Block, Jayanagar, Ba...</td>\n",
       "    </tr>\n",
       "    <tr>\n",
       "      <th>166</th>\n",
       "      <td>Patio 805</td>\n",
       "      <td>4.1</td>\n",
       "      <td>1200</td>\n",
       "      <td>Banashankari</td>\n",
       "      <td>Yes</td>\n",
       "      <td>805, Ground Floor, 35C Cross, 9th Main, 4th Bl...</td>\n",
       "    </tr>\n",
       "    <tr>\n",
       "      <th>207</th>\n",
       "      <td>Chutney Chang</td>\n",
       "      <td>4.1</td>\n",
       "      <td>1500</td>\n",
       "      <td>Banashankari</td>\n",
       "      <td>Yes</td>\n",
       "      <td>Cosmopolitan Club, 22nd Cross, 3rd Block, Jaya...</td>\n",
       "    </tr>\n",
       "    <tr>\n",
       "      <th>217</th>\n",
       "      <td>Toscano</td>\n",
       "      <td>4.3</td>\n",
       "      <td>1300</td>\n",
       "      <td>Banashankari</td>\n",
       "      <td>Yes</td>\n",
       "      <td>359/38,Next to Fabindia, 7th Cross, 1st Block,...</td>\n",
       "    </tr>\n",
       "  </tbody>\n",
       "</table>\n",
       "</div>"
      ],
      "text/plain": [
       "                   name  rate  two_people_cost     locations book_table  \\\n",
       "0                 Jalsa   4.1              800  Banashankari        Yes   \n",
       "7                Onesta   4.6              600  Banashankari        Yes   \n",
       "11         Cafe Shuffle   4.2              600  Banashankari        Yes   \n",
       "12     The Coffee Shack   4.2              500  Banashankari        Yes   \n",
       "44               Onesta   4.6              600  Banashankari        Yes   \n",
       "57               Wamama   4.2              800  Banashankari        Yes   \n",
       "148  Sri Udupi Food Hub   4.1              500  Banashankari        Yes   \n",
       "166           Patio 805   4.1             1200  Banashankari        Yes   \n",
       "207       Chutney Chang   4.1             1500  Banashankari        Yes   \n",
       "217             Toscano   4.3             1300  Banashankari        Yes   \n",
       "\n",
       "                                               address  \n",
       "0    942, 21st Main Road, 2nd Stage, Banashankari, ...  \n",
       "7    2469, 3rd Floor, 24th Cross, Opposite BDA Comp...  \n",
       "11   941, 3rd FLOOR, 21st Main, 22nd Cross, Banasha...  \n",
       "12       6th Block, 3rd Stage, Banashankari, Bangalore  \n",
       "44   2469, 3rd Floor, 24th Cross, Opposite BDA Comp...  \n",
       "57   2466, Bhaskar Grand Tower, 24th Cross, Opposit...  \n",
       "148  155, 43rd Cross Road, 8th Block, Jayanagar, Ba...  \n",
       "166  805, Ground Floor, 35C Cross, 9th Main, 4th Bl...  \n",
       "207  Cosmopolitan Club, 22nd Cross, 3rd Block, Jaya...  \n",
       "217  359/38,Next to Fabindia, 7th Cross, 1st Block,...  "
      ]
     },
     "execution_count": 317,
     "metadata": {},
     "output_type": "execute_result"
    }
   ],
   "source": [
    "data=df.loc[(df['book_table']=='Yes') & (df['rate']>4.0),['name','rate','two_people_cost','locations','book_table','address']]\n",
    "data.head(10)"
   ]
  },
  {
   "cell_type": "code",
   "execution_count": 318,
   "metadata": {},
   "outputs": [
    {
     "data": {
      "text/html": [
       "<div>\n",
       "<style scoped>\n",
       "    .dataframe tbody tr th:only-of-type {\n",
       "        vertical-align: middle;\n",
       "    }\n",
       "\n",
       "    .dataframe tbody tr th {\n",
       "        vertical-align: top;\n",
       "    }\n",
       "\n",
       "    .dataframe thead th {\n",
       "        text-align: right;\n",
       "    }\n",
       "</style>\n",
       "<table border=\"1\" class=\"dataframe\">\n",
       "  <thead>\n",
       "    <tr style=\"text-align: right;\">\n",
       "      <th></th>\n",
       "      <th>name</th>\n",
       "      <th>rate</th>\n",
       "      <th>two_people_cost</th>\n",
       "    </tr>\n",
       "  </thead>\n",
       "  <tbody>\n",
       "    <tr>\n",
       "      <th>7</th>\n",
       "      <td>Onesta</td>\n",
       "      <td>4.6</td>\n",
       "      <td>600</td>\n",
       "    </tr>\n",
       "    <tr>\n",
       "      <th>44</th>\n",
       "      <td>Onesta</td>\n",
       "      <td>4.6</td>\n",
       "      <td>600</td>\n",
       "    </tr>\n",
       "    <tr>\n",
       "      <th>557</th>\n",
       "      <td>Onesta</td>\n",
       "      <td>4.6</td>\n",
       "      <td>600</td>\n",
       "    </tr>\n",
       "    <tr>\n",
       "      <th>2497</th>\n",
       "      <td>Onesta</td>\n",
       "      <td>4.6</td>\n",
       "      <td>600</td>\n",
       "    </tr>\n",
       "    <tr>\n",
       "      <th>2584</th>\n",
       "      <td>Onesta</td>\n",
       "      <td>4.6</td>\n",
       "      <td>600</td>\n",
       "    </tr>\n",
       "    <tr>\n",
       "      <th>3293</th>\n",
       "      <td>Onesta</td>\n",
       "      <td>4.6</td>\n",
       "      <td>600</td>\n",
       "    </tr>\n",
       "    <tr>\n",
       "      <th>6995</th>\n",
       "      <td>Onesta</td>\n",
       "      <td>4.6</td>\n",
       "      <td>600</td>\n",
       "    </tr>\n",
       "    <tr>\n",
       "      <th>16975</th>\n",
       "      <td>Baar Union</td>\n",
       "      <td>4.6</td>\n",
       "      <td>850</td>\n",
       "    </tr>\n",
       "    <tr>\n",
       "      <th>17490</th>\n",
       "      <td>Baar Union</td>\n",
       "      <td>4.6</td>\n",
       "      <td>850</td>\n",
       "    </tr>\n",
       "    <tr>\n",
       "      <th>17501</th>\n",
       "      <td>Baar Union</td>\n",
       "      <td>4.6</td>\n",
       "      <td>850</td>\n",
       "    </tr>\n",
       "    <tr>\n",
       "      <th>19586</th>\n",
       "      <td>Onesta</td>\n",
       "      <td>4.6</td>\n",
       "      <td>600</td>\n",
       "    </tr>\n",
       "    <tr>\n",
       "      <th>26116</th>\n",
       "      <td>Zamindar</td>\n",
       "      <td>4.6</td>\n",
       "      <td>800</td>\n",
       "    </tr>\n",
       "    <tr>\n",
       "      <th>28920</th>\n",
       "      <td>Baar Union</td>\n",
       "      <td>4.6</td>\n",
       "      <td>850</td>\n",
       "    </tr>\n",
       "    <tr>\n",
       "      <th>29259</th>\n",
       "      <td>Baar Union</td>\n",
       "      <td>4.6</td>\n",
       "      <td>850</td>\n",
       "    </tr>\n",
       "    <tr>\n",
       "      <th>40535</th>\n",
       "      <td>Onesta</td>\n",
       "      <td>4.6</td>\n",
       "      <td>600</td>\n",
       "    </tr>\n",
       "    <tr>\n",
       "      <th>40802</th>\n",
       "      <td>Onesta</td>\n",
       "      <td>4.6</td>\n",
       "      <td>600</td>\n",
       "    </tr>\n",
       "    <tr>\n",
       "      <th>41542</th>\n",
       "      <td>Onesta</td>\n",
       "      <td>4.6</td>\n",
       "      <td>600</td>\n",
       "    </tr>\n",
       "  </tbody>\n",
       "</table>\n",
       "</div>"
      ],
      "text/plain": [
       "             name  rate  two_people_cost\n",
       "7          Onesta   4.6              600\n",
       "44         Onesta   4.6              600\n",
       "557        Onesta   4.6              600\n",
       "2497       Onesta   4.6              600\n",
       "2584       Onesta   4.6              600\n",
       "3293       Onesta   4.6              600\n",
       "6995       Onesta   4.6              600\n",
       "16975  Baar Union   4.6              850\n",
       "17490  Baar Union   4.6              850\n",
       "17501  Baar Union   4.6              850\n",
       "19586      Onesta   4.6              600\n",
       "26116    Zamindar   4.6              800\n",
       "28920  Baar Union   4.6              850\n",
       "29259  Baar Union   4.6              850\n",
       "40535      Onesta   4.6              600\n",
       "40802      Onesta   4.6              600\n",
       "41542      Onesta   4.6              600"
      ]
     },
     "execution_count": 318,
     "metadata": {},
     "output_type": "execute_result"
    }
   ],
   "source": [
    "best_restaurants = data.loc[(data['rate'] > 4.5) & (data['two_people_cost'] < 1000), ['name','rate', 'two_people_cost']]\n",
    "best_restaurants"
   ]
  },
  {
   "cell_type": "code",
   "execution_count": 319,
   "metadata": {},
   "outputs": [
    {
     "data": {
      "text/plain": [
       "array(['Onesta', 'Baar Union', 'Zamindar'], dtype=object)"
      ]
     },
     "execution_count": 319,
     "metadata": {},
     "output_type": "execute_result"
    }
   ],
   "source": [
    "best_restaurants['name'].unique()"
   ]
  },
  {
   "cell_type": "code",
   "execution_count": 320,
   "metadata": {},
   "outputs": [
    {
     "data": {
      "text/plain": [
       "array([600, 850, 800], dtype=int64)"
      ]
     },
     "execution_count": 320,
     "metadata": {},
     "output_type": "execute_result"
    }
   ],
   "source": [
    "best_restaurants['two_people_cost'].unique()"
   ]
  },
  {
   "cell_type": "markdown",
   "metadata": {},
   "source": [
    "### Conclusion : Onesta, Baar Union and Zamindar are the three top rated (rating > 4.5) and cheapest resaturants (cost for two people of 600,850 and 800 respectively) "
   ]
  }
 ],
 "metadata": {
  "kernelspec": {
   "display_name": "Python 3",
   "language": "python",
   "name": "python3"
  },
  "language_info": {
   "codemirror_mode": {
    "name": "ipython",
    "version": 3
   },
   "file_extension": ".py",
   "mimetype": "text/x-python",
   "name": "python",
   "nbconvert_exporter": "python",
   "pygments_lexer": "ipython3",
   "version": "3.7.3"
  }
 },
 "nbformat": 4,
 "nbformat_minor": 2
}
